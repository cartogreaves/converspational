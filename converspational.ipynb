{
 "cells": [
  {
   "cell_type": "markdown",
   "metadata": {},
   "source": [
    "# Converspational\n",
    "Talk to your geospatial data"
   ]
  },
  {
   "cell_type": "markdown",
   "metadata": {},
   "source": [
    "### Importing Packages"
   ]
  },
  {
   "cell_type": "code",
   "execution_count": 5,
   "metadata": {},
   "outputs": [],
   "source": [
    "import os\n",
    "import duckdb\n",
    "from pathlib import Path\n",
    "from openai import OpenAI\n",
    "from pygame import mixer\n",
    "from pvrecorder import PvRecorder\n",
    "import wave, struct\n",
    "from langchain.llms import Ollama\n",
    "from langchain.document_loaders import WebBaseLoader\n",
    "from langchain.text_splitter import RecursiveCharacterTextSplitter\n",
    "from langchain.embeddings import GPT4AllEmbeddings, OpenAIEmbeddings\n",
    "from langchain.vectorstores import Chroma\n",
    "from langchain import hub, PromptTemplate\n",
    "from langchain.schema import StrOutputParser\n",
    "from langchain.schema.runnable import RunnablePassthrough\n",
    "from langchain.chat_models import ChatOpenAI\n",
    "from sqlalchemy import create_engine\n",
    "from langchain.agents.agent_toolkits import SQLDatabaseToolkit\n",
    "from langchain.sql_database import SQLDatabase\n",
    "from langchain.agents.agent_types import AgentType\n",
    "from langchain.agents import create_sql_agent\n",
    "from dotenv import load_dotenv"
   ]
  },
  {
   "cell_type": "markdown",
   "metadata": {},
   "source": [
    "### Setting Keys"
   ]
  },
  {
   "cell_type": "code",
   "execution_count": 6,
   "metadata": {},
   "outputs": [],
   "source": [
    "openai_api_key = os.getenv('OPENAI_API_KEY')\n",
    "client = OpenAI(api_key=openai_api_key)"
   ]
  },
  {
   "cell_type": "markdown",
   "metadata": {},
   "source": [
    "### Choose your LLM"
   ]
  },
  {
   "cell_type": "markdown",
   "metadata": {},
   "source": [
    "#### Mistral 7B"
   ]
  },
  {
   "cell_type": "code",
   "execution_count": null,
   "metadata": {},
   "outputs": [],
   "source": [
    "llm = Ollama(base_url='http://localhost:11434', model='mistral')\n",
    "\n",
    "preset_embeddings = GPT4AllEmbeddings()"
   ]
  },
  {
   "cell_type": "markdown",
   "metadata": {},
   "source": [
    "#### GPT 4"
   ]
  },
  {
   "cell_type": "code",
   "execution_count": 7,
   "metadata": {},
   "outputs": [],
   "source": [
    "llm = ChatOpenAI(model_name=\"gpt-4\", temperature=0)\n",
    "\n",
    "preset_embeddings = OpenAIEmbeddings()"
   ]
  },
  {
   "cell_type": "markdown",
   "metadata": {},
   "source": [
    "### Loading RAG data"
   ]
  },
  {
   "cell_type": "markdown",
   "metadata": {},
   "source": [
    "#### Database (DuckDB)"
   ]
  },
  {
   "cell_type": "markdown",
   "metadata": {},
   "source": [
    "##### Instantiate Database"
   ]
  },
  {
   "cell_type": "code",
   "execution_count": 8,
   "metadata": {},
   "outputs": [],
   "source": [
    "duck_conn = duckdb.connect('./data/osopendata/os_opendata.db')\n",
    "uri = 'duckdb:///./data/osopendata/os_opendata.db'\n",
    "connect_args = {\n",
    "    'read_only': True\n",
    "}\n",
    "sqlalchemy_conn = create_engine(uri)"
   ]
  },
  {
   "cell_type": "markdown",
   "metadata": {},
   "source": [
    "##### Enable Spatial"
   ]
  },
  {
   "cell_type": "code",
   "execution_count": 9,
   "metadata": {},
   "outputs": [],
   "source": [
    "duck_conn.query(\"INSTALL spatial;\")\n",
    "duck_conn.query(\"LOAD spatial;\")"
   ]
  },
  {
   "cell_type": "markdown",
   "metadata": {},
   "source": [
    "##### Import Data"
   ]
  },
  {
   "cell_type": "code",
   "execution_count": 10,
   "metadata": {},
   "outputs": [],
   "source": [
    "duck_conn.query(\"CREATE SCHEMA IF NOT EXISTS raw;\")\n",
    "duck_conn.query(\"CREATE OR REPLACE TABLE raw.district_borough_unitary AS SELECT * FROM st_read('./data/osopendata/district_borough_unitary.gpkg');\")\n",
    "duck_conn.query(\"CREATE OR REPLACE TABLE raw.greenspace_site AS SELECT * FROM st_read('./data/osopendata/greenspace_site.gpkg');\")"
   ]
  },
  {
   "cell_type": "markdown",
   "metadata": {},
   "source": [
    "Investigate Data"
   ]
  },
  {
   "cell_type": "code",
   "execution_count": 11,
   "metadata": {},
   "outputs": [
    {
     "data": {
      "text/plain": [
       "┌────────────────────┬─────────────┬─────────┬─────────┬─────────┬───────┐\n",
       "│    column_name     │ column_type │  null   │   key   │ default │ extra │\n",
       "│      varchar       │   varchar   │ varchar │ varchar │ varchar │ int32 │\n",
       "├────────────────────┼─────────────┼─────────┼─────────┼─────────┼───────┤\n",
       "│ id                 │ VARCHAR     │ YES     │ NULL    │ NULL    │  NULL │\n",
       "│ function           │ VARCHAR     │ YES     │ NULL    │ NULL    │  NULL │\n",
       "│ distinctive_name_1 │ VARCHAR     │ YES     │ NULL    │ NULL    │  NULL │\n",
       "│ distinctive_name_2 │ VARCHAR     │ YES     │ NULL    │ NULL    │  NULL │\n",
       "│ distinctive_name_3 │ VARCHAR     │ YES     │ NULL    │ NULL    │  NULL │\n",
       "│ distinctive_name_4 │ VARCHAR     │ YES     │ NULL    │ NULL    │  NULL │\n",
       "│ geom               │ GEOMETRY    │ YES     │ NULL    │ NULL    │  NULL │\n",
       "└────────────────────┴─────────────┴─────────┴─────────┴─────────┴───────┘"
      ]
     },
     "execution_count": 11,
     "metadata": {},
     "output_type": "execute_result"
    }
   ],
   "source": [
    "duck_conn.query(\"DESCRIBE raw.district_borough_unitary\")\n",
    "duck_conn.query(\"DESCRIBE raw.greenspace_site\")"
   ]
  },
  {
   "cell_type": "markdown",
   "metadata": {},
   "source": [
    "##### Create Database Agent"
   ]
  },
  {
   "cell_type": "code",
   "execution_count": 12,
   "metadata": {},
   "outputs": [
    {
     "name": "stderr",
     "output_type": "stream",
     "text": [
      "/Users/rhargreaves/.pyenv/versions/3.9.13/envs/ged_chatbot/lib/python3.9/site-packages/duckdb_engine/__init__.py:162: DuckDBEngineWarning: duckdb-engine doesn't yet support reflection on indices\n",
      "  warnings.warn(\n"
     ]
    }
   ],
   "source": [
    "\n",
    "db = SQLDatabase.from_uri(\n",
    "    uri,\n",
    "    schema='raw',\n",
    "    include_tables=['greenspace_site', 'district_borough_unitary'], \n",
    "\tsample_rows_in_table_info=3)\n",
    "\n",
    "template = \"\"\"/\n",
    "You are a SQL Analyst that is querying a database that contains two tables: One of greenspace polygons in Great Britain and the second of districts of Great Britain.\n",
    "\n",
    "Both tables contain 'geom' columns of geometries in CRS:27700 which can be used to perform spatial joins and analysis using spatial functions commonly found in PostGIS.\n",
    "\n",
    "Your job is to write and execute an accurate query that answers the following question:\n",
    "{query}\n",
    "\"\"\"\n",
    "\n",
    "prompt = PromptTemplate.from_template(template)\n",
    "\n",
    "toolkit = SQLDatabaseToolkit(\n",
    "    db=db, \n",
    "    llm=llm)\n",
    "\n",
    "\n",
    "agent_executor = create_sql_agent(\n",
    "    llm=llm,\n",
    "    toolkit=toolkit,\n",
    "    verbose=True,\n",
    "    agent_type=AgentType.ZERO_SHOT_REACT_DESCRIPTION)"
   ]
  },
  {
   "cell_type": "markdown",
   "metadata": {},
   "source": [
    "#### Website"
   ]
  },
  {
   "cell_type": "code",
   "execution_count": null,
   "metadata": {},
   "outputs": [],
   "source": [
    "\n",
    "loader = WebBaseLoader('https://en.wikipedia.org/wiki/Surfing')\n",
    "data = loader.load()\n",
    "\n",
    "text_splitter = RecursiveCharacterTextSplitter(chunk_size=1000, chunk_overlap=200)\n",
    "all_splits = text_splitter.split_documents(data)\n",
    "\n",
    "vectorstore = Chroma.from_documents(documents=all_splits, embedding=preset_embeddings)\n",
    "retriever = vectorstore.as_retriever()\n",
    "\n",
    "prompt = hub.pull(\"rlm/rag-prompt\")\n",
    "\n",
    "rag_chain = (\n",
    "    {\"context\": retriever, \"question\": RunnablePassthrough()}\n",
    "    | prompt\n",
    "    | llm\n",
    "    | StrOutputParser()\n",
    ")"
   ]
  },
  {
   "cell_type": "markdown",
   "metadata": {},
   "source": [
    "##### Clean Vector Store"
   ]
  },
  {
   "cell_type": "code",
   "execution_count": 14,
   "metadata": {},
   "outputs": [],
   "source": [
    "vectorstore.delete_collection()"
   ]
  },
  {
   "cell_type": "markdown",
   "metadata": {},
   "source": [
    "### Record your question"
   ]
  },
  {
   "cell_type": "markdown",
   "metadata": {},
   "source": [
    "#### Listening..."
   ]
  },
  {
   "cell_type": "code",
   "execution_count": 36,
   "metadata": {},
   "outputs": [],
   "source": [
    "#load all audio input devices \n",
    "# for index, device in enumerate(PvRecorder.get_available_devices()):\n",
    "#     print(f\"[{index}] {device}\")\n",
    "\n",
    "recorder = PvRecorder(device_index=1, frame_length=512) #(32 milliseconds of 16 kHz audio)\n",
    "audio = []\n",
    "record_path = './audio/recording.mp3'\n",
    "\n",
    "try:\n",
    "    recorder.start()\n",
    "\n",
    "\n",
    "    while True:\n",
    "        frame = recorder.read()\n",
    "        audio.extend(frame)\n",
    "except KeyboardInterrupt:\n",
    "    recorder.stop()\n",
    "    with wave.open(record_path, 'w') as f:\n",
    "        f.setparams((1, 2, 16000, 512, \"NONE\", \"NONE\"))\n",
    "        f.writeframes(struct.pack(\"h\" * len(audio), *audio))\n",
    "finally:\n",
    "    recorder.delete()"
   ]
  },
  {
   "cell_type": "markdown",
   "metadata": {},
   "source": [
    "#### Speech-To-Text using OpenAI Whisper"
   ]
  },
  {
   "cell_type": "code",
   "execution_count": 41,
   "metadata": {},
   "outputs": [
    {
     "name": "stdout",
     "output_type": "stream",
     "text": [
      "Where did surfing originate from?\n",
      "\n"
     ]
    }
   ],
   "source": [
    "\n",
    "audio_file = open(record_path, \"rb\")\n",
    "transcript = client.audio.transcriptions.create(\n",
    "  model=\"whisper-1\", \n",
    "  file=audio_file, \n",
    "  response_format=\"text\"\n",
    ")\n",
    "\n",
    "print(transcript)"
   ]
  },
  {
   "cell_type": "markdown",
   "metadata": {},
   "source": [
    "#### Alternatively input transcript text"
   ]
  },
  {
   "cell_type": "code",
   "execution_count": 28,
   "metadata": {},
   "outputs": [],
   "source": [
    "transcript = \"Where did Surfing originate from?\""
   ]
  },
  {
   "cell_type": "markdown",
   "metadata": {},
   "source": [
    "### Question your data"
   ]
  },
  {
   "cell_type": "markdown",
   "metadata": {},
   "source": [
    "#### Database"
   ]
  },
  {
   "cell_type": "code",
   "execution_count": 13,
   "metadata": {},
   "outputs": [
    {
     "name": "stdout",
     "output_type": "stream",
     "text": [
      "\n",
      "\n",
      "\u001b[1m> Entering new AgentExecutor chain...\u001b[0m\n",
      "\u001b[32;1m\u001b[1;3mAction: sql_db_list_tables\n",
      "Action Input: \"\" \u001b[0m\n",
      "Observation: \u001b[38;5;200m\u001b[1;3mdistrict_borough_unitary, greenspace_site\u001b[0m\n",
      "Thought:\u001b[32;1m\u001b[1;3mThe tables 'district_borough_unitary' and 'greenspace_site' seem to be the most relevant for this query. I should check their schemas to understand the structure and the fields they contain.\n",
      "Action: sql_db_schema\n",
      "Action Input: \"district_borough_unitary, greenspace_site\" \u001b[0m\n",
      "Observation: \u001b[33;1m\u001b[1;3m\n",
      "CREATE TABLE raw.district_borough_unitary (\n",
      "\t\"Name\" VARCHAR, \n",
      "\t\"Area_Code\" VARCHAR, \n",
      "\t\"Area_Description\" VARCHAR, \n",
      "\t\"File_Name\" VARCHAR, \n",
      "\t\"Feature_Serial_Number\" INTEGER, \n",
      "\t\"Collection_Serial_Number\" INTEGER, \n",
      "\t\"Global_Polygon_ID\" INTEGER, \n",
      "\t\"Admin_Unit_ID\" INTEGER, \n",
      "\t\"Census_Code\" VARCHAR, \n",
      "\t\"Hectares\" DOUBLE PRECISION, \n",
      "\t\"Non_Inland_Area\" DOUBLE PRECISION, \n",
      "\t\"Area_Type_Code\" VARCHAR, \n",
      "\t\"Area_Type_Description\" VARCHAR, \n",
      "\t\"Non_Area_Type_Code\" VARCHAR, \n",
      "\t\"Non_Area_Type_Description\" VARCHAR, \n",
      "\tgeom BYTEA\n",
      ")\n",
      "\n",
      "/*\n",
      "3 rows from district_borough_unitary table:\n",
      "Name\tArea_Code\tArea_Description\tFile_Name\tFeature_Serial_Number\tCollection_Serial_Number\tGlobal_Polygon_ID\tAdmin_Unit_ID\tCensus_Code\tHectares\tNon_Inland_Area\tArea_Type_Code\tArea_Type_Description\tNon_Area_Type_Code\tNon_Area_Type_Description\tgeom\n",
      "Barnsley District (B)\tMTD\tMetropolitan District\tBARNSLEY_DISTRICT_(B)\t1\t1\t50242\t9182\tE08000016\t32907.759\t0.0\tAA\tCIVIL ADMINISTRATION AREA\tNone\tNone\tb'\\x05\\x04\\xe4\\x00\\x00\\x00\\x00\\x00\\x89\\x1a\\xc9Hy0\\xc0H\\xa7\\xcd\\xdaH4\\xaf\\xc9H\\x05\\x00\\x00\\x00\\x01\\x0\n",
      "Birmingham District (B)\tMTD\tMetropolitan District\tBIRMINGHAM_DISTRICT_(B)\t2\t2\t40111\t18\tE08000025\t26778.273\t0.0\tAA\tCIVIL ADMINISTRATION AREA\tNone\tNone\tb'\\x05\\x04\\xe5\\x00\\x00\\x00\\x00\\x00\\xf6=\\xc2H\\\\\\xb6\\x86H\\xaaW\\xccHz\\x15\\x93H\\x05\\x00\\x00\\x00\\x01\\x00\\\n",
      "Calderdale District (B)\tMTD\tMetropolitan District\tCALDERDALE_DISTRICT_(B)\t3\t3\t61033\t16714\tE08000033\t36395.682\t0.0\tAA\tCIVIL ADMINISTRATION AREA\tNone\tNone\tb'\\x05\\x04\\x89\\x00\\x00\\x00\\x00\\x00\\xd8\\xc6\\xbdHf\\xc1\\xc9HD(\\xccHZ.\\xd5H\\x05\\x00\\x00\\x00\\x01\\x00\\x00\\\n",
      "*/\n",
      "\n",
      "\n",
      "CREATE TABLE raw.greenspace_site (\n",
      "\tid VARCHAR, \n",
      "\tfunction VARCHAR, \n",
      "\tdistinctive_name_1 VARCHAR, \n",
      "\tdistinctive_name_2 VARCHAR, \n",
      "\tdistinctive_name_3 VARCHAR, \n",
      "\tdistinctive_name_4 VARCHAR, \n",
      "\tgeom BYTEA\n",
      ")\n",
      "\n",
      "/*\n",
      "3 rows from greenspace_site table:\n",
      "id\tfunction\tdistinctive_name_1\tdistinctive_name_2\tdistinctive_name_3\tdistinctive_name_4\tgeom\n",
      "F34085A3-E9BA-7DA2-E053-AAEFA00AB6EA\tReligious Grounds\tMonzie Kirk\tNone\tNone\tNone\tb'\\x05\\x04x\\x00\\x00\\x00\\x00\\x00\\xab\\x8e\\x8cH\\xdb\\xff0I\\xb8\\x96\\x8cH+\\x031I\\x05\\x00\\x00\\x00\\x01\\x00\\x\n",
      "F34085C6-4B7A-7DA2-E053-AAEFA00AB6EA\tOther Sports Facility\tNone\tNone\tNone\tNone\tb'\\x05\\x04\\xc9\\x00\\x00\\x00\\x00\\x00}v\\xb0H\\x12\\x975I\\x08\\xa2\\xb0H\\xda\\xa65I\\x05\\x00\\x00\\x00\\x01\\x00\\x\n",
      "F34085DA-3EE1-7DA2-E053-AAEFA00AB6EA\tReligious Grounds\tGardenstown Free Presbyterian Church\tNone\tNone\tNone\tb'\\x05\\x04)\\x00\\x00\\x00\\x00\\x00 P\\xb9H6\\xa6RId\\\\\\xb9HU\\xaeRI\\x05\\x00\\x00\\x00\\x01\\x00\\x00\\x00\\x02\\x00\n",
      "*/\u001b[0m\n",
      "Thought:\u001b[32;1m\u001b[1;3mThe 'district_borough_unitary' table contains a 'Name' field which likely contains the name of the district, and a 'geom' field for the geometry of the district. The 'greenspace_site' table contains a 'function' field which likely contains the function of the greenspace, and a 'geom' field for the geometry of the greenspace. I can use these fields to construct a query that counts the number of greenspaces with a function of 'Religious Grounds' that are within 'Bath and North East Somerset'. I will use the ST_Within spatial function to check if the greenspace is within the district. I will also limit the results to 10 as per the instructions.\n",
      "Action: sql_db_query_checker\n",
      "Action Input: \"SELECT COUNT(*) FROM greenspace_site WHERE function = 'Religious Grounds' AND ST_Within(geom, (SELECT geom FROM district_borough_unitary WHERE Name = 'Bath and North East Somerset')) LIMIT 10;\" \u001b[0m\n",
      "Observation: \u001b[36;1m\u001b[1;3mSELECT COUNT(*) FROM greenspace_site WHERE function = 'Religious Grounds' AND ST_Within(geom, (SELECT geom FROM district_borough_unitary WHERE Name = 'Bath and North East Somerset')) LIMIT 10;\u001b[0m\n",
      "Thought:\u001b[32;1m\u001b[1;3mThe query syntax is correct. Now I will execute the query to get the count of greenspaces with a function of 'Religious Grounds' that are within 'Bath and North East Somerset'.\n",
      "Action: sql_db_query\n",
      "Action Input: \"SELECT COUNT(*) FROM greenspace_site WHERE function = 'Religious Grounds' AND ST_Within(geom, (SELECT geom FROM district_borough_unitary WHERE Name = 'Bath and North East Somerset')) LIMIT 10;\" \u001b[0m\n",
      "Observation: \u001b[36;1m\u001b[1;3m[(79,)]\u001b[0m\n",
      "Thought:\u001b[32;1m\u001b[1;3mI now know the final answer\n",
      "Final Answer: There are 79 greenspaces with a function of 'Religious Grounds' within 'Bath and North East Somerset'.\u001b[0m\n",
      "\n",
      "\u001b[1m> Finished chain.\u001b[0m\n",
      "There are 79 greenspaces with a function of 'Religious Grounds' within 'Bath and North East Somerset'.\n"
     ]
    }
   ],
   "source": [
    "answer = agent_executor.run(\n",
    "    prompt.format(query = \"How many greenspaces with a function of 'Religious Grounds' are within 'Bath and North East Somerset'?\")\n",
    ")\n",
    "print(answer)"
   ]
  },
  {
   "cell_type": "markdown",
   "metadata": {},
   "source": [
    "#### Website"
   ]
  },
  {
   "cell_type": "code",
   "execution_count": 28,
   "metadata": {},
   "outputs": [
    {
     "name": "stdout",
     "output_type": "stream",
     "text": [
      "There are 79 greenspaces with a function of 'Religious Grounds' within 'Bath and North East Somerset'.\n"
     ]
    }
   ],
   "source": [
    "answer = rag_chain.invoke(transcript)\n",
    "print(answer)"
   ]
  },
  {
   "cell_type": "markdown",
   "metadata": {},
   "source": [
    "### Hear your answer"
   ]
  },
  {
   "cell_type": "markdown",
   "metadata": {},
   "source": [
    "#### Text-To-Speech using OpenAI Whisper"
   ]
  },
  {
   "cell_type": "code",
   "execution_count": 14,
   "metadata": {},
   "outputs": [],
   "source": [
    "speech_path = Path().parent / \"./audio/speech.mp3\"\n",
    "response = client.audio.speech.create(\n",
    "  model=\"tts-1\",\n",
    "  voice=\"fable\",\n",
    "  input=answer\n",
    ")\n",
    "\n",
    "response.stream_to_file(speech_path)\n",
    "\n",
    "mixer.init()\n",
    "mixer.music.load(speech_path)\n",
    "mixer.music.play()"
   ]
  }
 ],
 "metadata": {
  "kernelspec": {
   "display_name": "ged_chatbot",
   "language": "python",
   "name": "python3"
  },
  "language_info": {
   "codemirror_mode": {
    "name": "ipython",
    "version": 3
   },
   "file_extension": ".py",
   "mimetype": "text/x-python",
   "name": "python",
   "nbconvert_exporter": "python",
   "pygments_lexer": "ipython3",
   "version": "3.9.13"
  },
  "orig_nbformat": 4
 },
 "nbformat": 4,
 "nbformat_minor": 2
}
